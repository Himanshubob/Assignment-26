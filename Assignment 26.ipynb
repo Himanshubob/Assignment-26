{
 "cells": [
  {
   "cell_type": "markdown",
   "id": "24bd32c9",
   "metadata": {},
   "source": [
    "# Q1. What is the Probability density function?"
   ]
  },
  {
   "cell_type": "markdown",
   "id": "c03fc70e",
   "metadata": {},
   "source": [
    "# ans.. the PDF is  a statistical expression that defines the probability that some outcome will occur "
   ]
  },
  {
   "cell_type": "markdown",
   "id": "79b55522",
   "metadata": {},
   "source": [
    "# Q2. What are the types of Probability distribution?"
   ]
  },
  {
   "cell_type": "markdown",
   "id": "4a2d9f86",
   "metadata": {},
   "source": [
    "# ans.. probability distribution is the  continuous  probability distribution "
   ]
  },
  {
   "cell_type": "markdown",
   "id": "04daed7e",
   "metadata": {},
   "source": [
    "# Q3. Write a Python function to calculate the probability density function of a normal distribution with given mean and standard deviation at a given point."
   ]
  },
  {
   "cell_type": "code",
   "execution_count": 1,
   "id": "ea99219f",
   "metadata": {},
   "outputs": [],
   "source": [
    "import math as m \n",
    "def normal_pdf ( x, mu, sigma ):\n",
    "    coeff=1/(sigma*m.sqrt(2*m.pi))\n",
    "    expo=-((x-mu)**2)/(2*sigma**2)\n",
    "    result= coeff*m.exp(expo)\n",
    "    return result"
   ]
  },
  {
   "cell_type": "code",
   "execution_count": 2,
   "id": "573972da",
   "metadata": {},
   "outputs": [
    {
     "name": "stdout",
     "output_type": "stream",
     "text": [
      "0.3989422804014327\n"
     ]
    }
   ],
   "source": [
    "print(normal_pdf(0,0,1))"
   ]
  },
  {
   "cell_type": "code",
   "execution_count": 3,
   "id": "638fd20f",
   "metadata": {},
   "outputs": [
    {
     "name": "stdout",
     "output_type": "stream",
     "text": [
      "0.24197072451914337\n"
     ]
    }
   ],
   "source": [
    "print(normal_pdf(1,0,1))"
   ]
  },
  {
   "cell_type": "markdown",
   "id": "39861cd8",
   "metadata": {},
   "source": [
    "# Q4. What are the properties of Binomial distribution? Give two examples of events where binomial distribution can be applied."
   ]
  },
  {
   "cell_type": "markdown",
   "id": "c05d096a",
   "metadata": {},
   "source": [
    "# ans..  notaion B(n,p)\n",
    "# parameter n belong to natural number  n is the number of the trials \n",
    "#  worke on Discreat randam varible  \n",
    "# every expriment out come is binary  \n",
    "# this expriment is performed for n trials .\n",
    "# ex .. tosing the coin  in 12 time \n"
   ]
  },
  {
   "cell_type": "markdown",
   "id": "a495d687",
   "metadata": {},
   "source": [
    "# Q5. Generate a random sample of size 1000 from a binomial distribution with probability of success 0.4 and plot a histogram of the results using matplotlib."
   ]
  },
  {
   "cell_type": "code",
   "execution_count": 9,
   "id": "ed274ccb",
   "metadata": {},
   "outputs": [],
   "source": [
    "import numpy as np\n",
    "sample = np.random.binomial(n=10, p=0.4, size=1000)\n"
   ]
  },
  {
   "cell_type": "code",
   "execution_count": 11,
   "id": "4f0ce750",
   "metadata": {},
   "outputs": [
    {
     "data": {
      "text/plain": [
       "array([ 5,  2,  3,  6,  5,  4,  4,  4,  5,  5,  6,  3,  5,  3,  2,  6,  3,\n",
       "        6,  3,  4,  6,  5,  4,  7,  4,  4,  5,  5,  3,  4,  4,  4,  6,  6,\n",
       "        8,  5,  4,  4,  4,  3,  6,  3,  7,  4,  5,  4,  5,  1,  6,  5,  5,\n",
       "        6,  5,  3,  3,  5,  3,  2,  2,  6,  4,  5,  4,  3,  2,  6,  5,  2,\n",
       "        4,  2,  4,  6,  5,  3,  3,  7,  5,  4,  5,  5,  3,  5,  5,  0,  2,\n",
       "        2,  2,  3,  5,  4,  7,  6,  3,  2,  4,  3,  5,  6,  4,  3,  4,  6,\n",
       "        3,  4,  4,  6,  2,  4,  3,  6,  2,  5,  1,  2,  3,  4,  3,  6,  4,\n",
       "        6,  4,  1,  4,  4,  4,  4,  6,  5,  3,  6,  5,  7,  3,  2,  0,  4,\n",
       "        4,  5,  1,  4,  4,  4,  5,  1,  3,  5,  2,  4,  4,  6,  5,  5,  3,\n",
       "        5,  6,  4,  4,  2,  4,  3,  3,  6,  3,  6,  7,  4,  5,  2,  6,  5,\n",
       "        7,  5,  4,  5,  3,  3,  6,  6,  5,  5,  5,  4,  3,  5,  4,  3,  5,\n",
       "        6,  3,  7,  3,  5,  2,  4,  3,  3,  4,  3,  5,  6,  6,  4,  4,  6,\n",
       "        4,  4,  3,  6,  2,  2,  5,  2,  6,  5, 10,  8,  3,  7,  4,  4,  4,\n",
       "        5,  2,  1,  4,  4,  3,  4,  4,  8,  3,  6,  2,  5,  2,  4,  5,  4,\n",
       "        5,  3,  3,  5,  3,  4,  3,  4,  4,  4,  3,  5,  1,  7,  5,  5,  4,\n",
       "        4,  3,  1,  5,  3,  3,  3,  2,  2,  4,  6,  5,  4,  3,  4,  5,  1,\n",
       "        3,  3,  8,  4,  3,  4,  5,  2,  4,  3,  5,  1,  7,  3,  2,  5,  5,\n",
       "        3,  5,  1,  5,  4,  4,  5,  3,  6,  3,  3,  2,  4,  4,  6,  5,  4,\n",
       "        2,  5,  2,  6,  3,  6,  4,  2,  5,  5,  3,  5,  4,  5,  3,  6,  4,\n",
       "        3,  6,  1,  4,  2,  4,  6,  5,  4,  4,  4,  4,  6,  4,  3,  6,  7,\n",
       "        6,  2,  4,  4,  6,  1,  7,  6,  2,  2,  5,  4,  5,  4,  4,  4,  4,\n",
       "        4,  1,  5,  4,  4,  6,  4,  5,  1,  3,  5,  1,  2,  3,  5,  4,  5,\n",
       "        2,  3,  3,  5,  4,  6,  4,  2,  5,  5,  5,  3,  6,  4,  2,  3,  5,\n",
       "        7,  2,  3,  0,  1,  3,  4,  4,  4,  3,  5,  4,  3,  4,  3,  5,  2,\n",
       "        5,  3,  3,  5,  3,  4,  3,  5,  4,  5,  3,  5,  2,  3,  5,  7,  1,\n",
       "        2,  4,  5,  4,  4,  5,  2,  4,  1,  2,  2,  4,  1,  3,  8,  3,  4,\n",
       "        6,  5,  1,  3,  6,  7,  1,  2,  3,  4,  6,  2,  6,  5,  1,  2,  5,\n",
       "        5,  4,  4,  2,  4,  2,  4,  4,  2,  3,  4,  6,  5,  2,  3,  4,  1,\n",
       "        0,  6,  3,  3,  4,  6,  3,  5,  2,  1,  0,  3,  4,  6,  5,  5,  4,\n",
       "        5,  5,  5,  5,  3,  6,  3,  3,  8,  5,  3,  1,  3,  4,  4,  2,  6,\n",
       "        5,  6,  4,  5,  7,  4,  4,  4,  0,  4,  6,  2,  5,  5,  5,  4,  4,\n",
       "        1,  4,  5,  2,  3,  5,  4,  4,  2,  1,  4,  1,  2,  3,  3,  5,  1,\n",
       "        4,  3,  4,  4,  4,  5,  5,  5,  2,  6,  6,  5,  2,  3,  5,  5,  3,\n",
       "        5,  3,  3,  6,  3,  3,  1,  1,  1,  6,  6,  3,  4,  4,  5,  4,  5,\n",
       "        4,  3,  4,  2,  3,  5,  5,  3,  5,  3,  2,  7,  3,  6,  5,  8,  7,\n",
       "        5,  7,  5,  3,  3,  4,  2,  3,  3,  5,  2,  6,  3,  6,  6,  4,  6,\n",
       "        6,  1,  3,  5,  4,  4,  5,  4,  3,  4,  6,  4,  3,  6,  2,  3,  6,\n",
       "        2,  5,  7,  3,  4,  2,  5,  3,  4,  3,  3,  4,  4,  5,  1,  4,  5,\n",
       "        6,  2,  3,  2,  5,  7,  6,  6,  2,  1,  5,  4,  4,  8,  8,  3,  6,\n",
       "        3,  3,  5,  6,  5,  4,  4,  4,  4,  2,  3,  7,  5,  4,  2,  2,  3,\n",
       "        3,  3,  4,  5,  4,  2,  5,  5,  4,  3,  4,  3,  3,  5,  2,  6,  3,\n",
       "        6,  5,  6,  5,  3,  7,  2,  2,  5,  5,  7,  4,  2,  3,  3,  1,  2,\n",
       "        4,  8,  3,  6,  2,  4,  4,  6,  3,  2,  3,  3,  4,  1,  5,  3,  3,\n",
       "        6,  5,  5,  4,  3,  7,  4,  4,  3,  2,  4,  2,  7,  3,  2,  2,  6,\n",
       "        5,  3,  4,  4,  3,  4,  1,  4,  5,  5,  3,  3,  5,  3,  5,  1,  6,\n",
       "        4,  3,  2,  3,  3,  3,  3,  4,  5,  6,  7,  4,  4,  7,  2,  2,  4,\n",
       "        5,  4,  2,  7,  2,  4,  7,  4,  3,  3,  4,  4,  3,  3,  4,  5,  4,\n",
       "        3,  4,  5,  5,  4,  6,  2,  6,  2,  4,  2,  2,  4,  5,  2,  3,  1,\n",
       "        6,  2,  6,  5,  3,  4,  4,  5,  3,  3,  2,  3,  2,  7,  3,  4,  2,\n",
       "        3,  5,  8,  5,  2,  1,  5,  6,  4,  4,  2,  4,  3,  5,  6,  5,  7,\n",
       "        4,  2,  5,  6,  5,  6,  6,  4,  3,  5,  4,  4,  2,  7,  5,  3,  4,\n",
       "        3,  4,  3,  5,  5,  4,  2,  6,  4,  5,  5,  4,  6,  6,  4,  5,  4,\n",
       "        4,  3,  2,  4,  2,  3,  2,  3,  7,  3,  5,  5,  5,  5,  5,  4,  4,\n",
       "        2,  5,  4,  3,  3,  2,  5,  5,  4,  5,  6,  4,  5,  5,  2,  2,  7,\n",
       "        6,  4,  5,  5,  5,  5,  6,  6,  2,  4,  4,  5,  4,  2,  7,  2,  3,\n",
       "        3,  5,  5,  6,  4,  4,  5,  1,  4,  5,  4,  4,  4,  4,  3,  3,  4,\n",
       "        6,  4,  3,  8,  4,  1,  2,  6,  4,  4,  6,  1,  7,  5,  4,  4,  5,\n",
       "        3,  6,  3,  5,  3,  2,  7,  2,  1,  4,  4,  3,  2,  1,  5,  2,  2,\n",
       "        3,  4,  5,  4,  6,  3,  4,  3,  2,  5,  5,  2,  2,  2])"
      ]
     },
     "execution_count": 11,
     "metadata": {},
     "output_type": "execute_result"
    }
   ],
   "source": [
    "sample"
   ]
  },
  {
   "cell_type": "code",
   "execution_count": 13,
   "id": "ec6e6a84",
   "metadata": {},
   "outputs": [],
   "source": [
    "import matplotlib.pyplot as plt"
   ]
  },
  {
   "cell_type": "code",
   "execution_count": 15,
   "id": "ca293274",
   "metadata": {},
   "outputs": [
    {
     "data": {
      "image/png": "[encoded data removed]",
      "text/plain": [
       "<Figure size 640x480 with 1 Axes>"
      ]
     },
     "metadata": {},
     "output_type": "display_data"
    }
   ],
   "source": [
    "plt.hist(sample, bins=10,density=True)\n",
    "plt.xlabel(\" number of sucesses\")\n",
    "plt.ylabel('probabilty')\n",
    "plt.show()"
   ]
  },
  {
   "cell_type": "markdown",
   "id": "fcbd2699",
   "metadata": {},
   "source": [
    "# Q6. Write a Python function to calculate the cumulative distribution function of a Poisson distribution with given mean at a given point."
   ]
  },
  {
   "cell_type": "code",
   "execution_count": 16,
   "id": "c2150f3a",
   "metadata": {},
   "outputs": [],
   "source": [
    " import scipy.stats as stats \n",
    "    "
   ]
  },
  {
   "cell_type": "code",
   "execution_count": 20,
   "id": "96643c73",
   "metadata": {},
   "outputs": [],
   "source": [
    "def poi_de(mean,point):\n",
    "    cdf=stats.poi.cdf( point,mean)\n",
    "    return cdf"
   ]
  },
  {
   "cell_type": "markdown",
   "id": "13226663",
   "metadata": {},
   "source": [
    "# Q7. How Binomial distribution different from Poisson distribution?"
   ]
  },
  {
   "cell_type": "markdown",
   "id": "72cc3f82",
   "metadata": {},
   "source": [
    "# ans.. Binomial distribution is worke the discreat randam varibale and working the number of time workie often \n",
    "# poisson distribution is work the discreat random varible  \n",
    "# and work describe the number of events occurng in a fixed time interval "
   ]
  },
  {
   "cell_type": "markdown",
   "id": "d54cbba2",
   "metadata": {},
   "source": [
    "# Q8. Generate a random sample of size 1000 from a Poisson distribution with mean 5 and calculate the sample mean and variance."
   ]
  },
  {
   "cell_type": "code",
   "execution_count": 29,
   "id": "0b23ae64",
   "metadata": {},
   "outputs": [],
   "source": [
    "import numpy as np\n",
    "np.random.seed(123)\n",
    "sample = np.random.poisson(lam=5, size=1000)"
   ]
  },
  {
   "cell_type": "code",
   "execution_count": 30,
   "id": "fcf2c06a",
   "metadata": {},
   "outputs": [
    {
     "data": {
      "text/plain": [
       "array([ 7,  5,  4,  8,  4,  8,  7,  5,  9,  4,  3,  4,  7,  8,  5,  6,  4,\n",
       "        3,  7,  8,  4,  6,  6,  7,  6,  5,  2,  3,  3,  7,  4,  6,  5,  6,\n",
       "        6,  3,  4,  4,  6,  6,  4,  4,  2,  4,  4,  3,  2, 11,  3,  1,  3,\n",
       "        6,  6,  3,  3,  9,  6,  7,  2,  4,  5,  7,  9,  3,  4,  4,  5,  3,\n",
       "        4,  4,  9,  2,  4,  6,  5,  5,  4,  6,  6,  3,  4,  4,  4,  8,  9,\n",
       "        7,  4,  3,  5,  7,  5,  4,  4,  5,  5, 13,  6,  4,  5,  4,  4,  4,\n",
       "        9,  6,  7,  6,  4,  7,  6,  7,  4,  5,  8,  3,  5,  6,  2,  6,  5,\n",
       "        5, 11,  5,  9,  5,  7,  2,  6,  4,  5,  3,  6,  3,  4,  6,  7,  9,\n",
       "        1,  6,  8,  5,  3,  7,  9,  2,  3,  5, 12,  2,  3,  3,  3,  3,  1,\n",
       "        9,  3,  6,  6,  6,  2,  4,  4,  3,  5,  0,  3,  3,  4,  4,  1,  8,\n",
       "        4,  4,  5,  5,  1,  4,  2,  5,  4,  1,  7,  3,  4,  4,  2,  4,  3,\n",
       "        5,  5,  3,  6,  5, 10,  4,  2,  8,  2,  0,  2,  1,  2,  4,  2,  2,\n",
       "        5,  6,  8,  3,  6,  6,  9,  6,  1,  5,  2,  4,  7,  5,  9,  4,  4,\n",
       "        6,  7,  4,  7,  2,  2,  2,  6,  6, 11,  3,  3,  4,  5,  5,  5,  7,\n",
       "        7,  4,  7,  5,  6,  2,  5,  6,  5,  9,  1,  3,  5,  5,  4,  6,  4,\n",
       "        4,  5,  5,  9,  6,  4,  8,  3,  2,  4,  6,  7,  6,  4,  5,  7,  4,\n",
       "        9,  1,  6,  6,  6,  7,  6,  9,  4,  9,  2,  2,  4,  4,  4,  8,  3,\n",
       "        6,  5,  1,  7,  3, 11,  5,  7,  2,  2,  5,  5,  5,  1,  6,  6,  7,\n",
       "        2,  4,  3,  8, 10,  7,  4,  8,  8,  3,  3,  4,  8,  2,  2,  7,  5,\n",
       "        1,  9, 12,  5,  5,  6,  4,  5,  5,  2,  3,  5,  9,  2,  7,  6,  7,\n",
       "        5,  2,  7,  3,  7,  5,  6,  5,  5,  1,  3,  3,  3,  3,  3,  5,  5,\n",
       "        7,  5,  5,  7,  4,  4,  8,  5,  1,  8,  8,  3,  8,  3,  4,  6,  4,\n",
       "        5,  2,  4,  3,  5,  6,  6,  1,  5,  3,  3,  5,  2, 10,  5,  2,  5,\n",
       "        4,  6,  6,  3,  4,  7,  0,  7,  5,  3,  5,  2,  6,  6,  3,  3,  1,\n",
       "        5,  1,  3,  2,  1,  2,  5,  4,  6,  6,  2,  6,  8,  2,  7,  2,  4,\n",
       "        5,  7,  5,  6,  2,  5,  7, 10,  6,  4,  4,  6,  4,  5,  3,  2,  3,\n",
       "        1,  5,  4,  4,  4,  8,  7,  8,  5,  4,  5,  6,  5,  6,  7,  6,  7,\n",
       "        4,  3,  3,  5,  9,  5,  6,  4,  3, 11,  8,  4,  8,  6,  7,  5,  6,\n",
       "        6,  6,  7,  3,  4,  7,  5,  3,  5,  4,  2,  5,  5,  6,  2,  4,  4,\n",
       "        2,  7,  7,  6,  4,  5,  5,  8,  4,  6,  6,  5,  6,  3,  4,  5,  8,\n",
       "        4,  6,  6,  4,  5,  4,  3,  4,  6,  2,  7,  5,  6,  7, 11,  3,  5,\n",
       "        3,  2,  4,  1,  2,  5,  5,  6, 10,  4,  8,  5,  3,  3,  4,  9,  4,\n",
       "        2,  7,  3,  1,  0,  4,  7,  3,  6,  5, 11,  3,  6,  5,  3,  7,  6,\n",
       "        5,  8,  8,  6,  6,  3,  6,  7,  6,  4,  4,  4,  8,  7,  5,  1,  6,\n",
       "        3,  4,  7,  3,  7,  4,  2,  3, 12,  2,  8,  7,  2,  2,  8,  6,  8,\n",
       "        2,  5,  5,  6,  2,  3,  6,  5,  3,  4,  4,  7,  4,  3,  3,  5,  5,\n",
       "        7,  5,  6,  2,  7,  4,  4,  2,  7,  8,  0,  5,  5,  6,  3,  2,  4,\n",
       "       10,  5,  5,  2,  4,  1,  3,  9,  0,  5,  4,  5,  5,  4,  4,  7,  1,\n",
       "        4,  6,  2,  7,  7,  6,  7,  4, 11,  7,  4,  4,  8,  2,  3,  5,  4,\n",
       "        3,  6,  5,  2,  5,  5,  4,  2,  4,  5,  6,  3,  4,  4,  5,  7,  5,\n",
       "        6,  5,  3,  2,  4,  5,  8,  3,  1,  1,  5,  8,  7,  6,  2,  5,  4,\n",
       "        6,  3,  3,  4,  6,  5, 10,  8, 12,  2,  4,  9,  3,  6,  4,  8,  4,\n",
       "        5,  3,  5,  3,  7,  9,  8,  6,  1,  4,  8,  7,  6,  4,  3,  8,  2,\n",
       "        3,  7,  8,  4,  7,  3,  4,  1,  4,  4,  5,  5,  3,  5,  7,  1,  4,\n",
       "        8,  5,  6,  2,  6,  5,  5,  4,  4,  7,  2,  4,  4,  3,  2,  5,  9,\n",
       "        3,  1,  4,  6,  4,  3,  3,  9,  6,  7,  4,  3,  5,  7,  7,  5,  4,\n",
       "        5,  4,  7,  4,  4,  6,  6,  3,  2,  9,  6,  3,  8,  7,  2,  5,  6,\n",
       "        9, 10,  5,  4,  5,  3,  5,  5,  3,  9,  4,  5,  4,  4,  6,  3,  4,\n",
       "        6,  7,  4,  3,  4,  2,  5,  6,  3,  2, 10,  5,  8,  5,  4,  3,  6,\n",
       "        7,  2,  8,  6,  5,  5,  3,  6,  1, 10,  3,  3,  7,  6,  5,  4,  6,\n",
       "        9,  9,  8,  1,  6,  2,  5,  6,  2,  5,  6,  4,  4,  2,  3,  2,  6,\n",
       "        1,  8,  2,  6,  4, 11,  3,  6, 10,  7,  3,  3,  8,  4,  5,  5,  9,\n",
       "        6,  4,  7,  9,  5,  5,  3,  7,  6,  4,  3,  4,  4,  8,  6,  0,  4,\n",
       "        1,  5,  7,  3,  5,  2,  5,  5, 10,  6,  3, 11,  9,  0,  4,  8,  4,\n",
       "        3,  7,  9,  6,  2,  7,  1,  4,  4,  4,  4,  4,  5,  5,  3,  7,  5,\n",
       "        7,  4,  9,  7,  8,  8,  5,  2,  3,  4,  4,  9,  8,  4,  4,  6,  4,\n",
       "        6,  4,  5,  6,  2,  5,  7,  9,  6,  3,  6,  6,  4,  8,  2,  1, 11,\n",
       "        4,  2,  2,  5,  5,  5,  3,  6,  4,  2,  3,  3,  7,  6, 11,  5,  3,\n",
       "        9,  4,  1,  6,  7,  3, 10,  4,  7,  5,  3,  5,  4,  3])"
      ]
     },
     "execution_count": 30,
     "metadata": {},
     "output_type": "execute_result"
    }
   ],
   "source": [
    "sample"
   ]
  },
  {
   "cell_type": "markdown",
   "id": "2b3a7a5e",
   "metadata": {},
   "source": [
    "# Q9. How mean and variance are related in Binomial distribution and Poisson distribution?"
   ]
  },
  {
   "cell_type": "markdown",
   "id": "8ea70284",
   "metadata": {},
   "source": [
    "# ans.. Binomal distribution  mean=n.p\n",
    "# varance=npq \n",
    "# poisson  distribution  mean =lamda*t  and eqal to the variance "
   ]
  },
  {
   "cell_type": "markdown",
   "id": "945b12d7",
   "metadata": {},
   "source": [
    "# Q10. In normal distribution with respect to mean position, where does the least frequent data appear?"
   ]
  },
  {
   "cell_type": "markdown",
   "id": "8ae0ca54",
   "metadata": {},
   "source": [
    "# ans.. the normal distribution mean is positive that the drow the perfact carve  and the data frequent is perfactly distributed the data "
   ]
  },
  {
   "cell_type": "code",
   "execution_count": null,
   "id": "f94ecd0f",
   "metadata": {},
   "outputs": [],
   "source": []
  }
 ],
 "metadata": {
  "kernelspec": {
   "display_name": "Python 3 (ipykernel)",
   "language": "python",
   "name": "python3"
  },
  "language_info": {
   "codemirror_mode": {
    "name": "ipython",
    "version": 3
   },
   "file_extension": ".py",
   "mimetype": "text/x-python",
   "name": "python",
   "nbconvert_exporter": "python",
   "pygments_lexer": "ipython3",
   "version": "3.10.9"
  }
 },
 "nbformat": 4,
 "nbformat_minor": 5
}
